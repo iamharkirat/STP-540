{
  "cells": [
    {
      "cell_type": "markdown",
      "metadata": {
        "id": "view-in-github",
        "colab_type": "text"
      },
      "source": [
        "<a href=\"https://colab.research.google.com/github/iamharkirat/STP-540-Computational-Statistics/blob/main/STP540_Single_Layer_Neural_Network_2.ipynb\" target=\"_parent\"><img src=\"https://colab.research.google.com/assets/colab-badge.svg\" alt=\"Open In Colab\"/></a>"
      ]
    },
    {
      "cell_type": "code",
      "execution_count": 1,
      "metadata": {
        "id": "Zg2C22UGI2uA"
      },
      "outputs": [],
      "source": [
        "import pandas as pd\n",
        "import numpy as np\n",
        "import matplotlib.pyplot as plt\n",
        "import seaborn as sns\n",
        "from sklearn.model_selection import GridSearchCV"
      ]
    },
    {
      "cell_type": "markdown",
      "metadata": {
        "id": "eXKqFhBt_bEy"
      },
      "source": [
        "# Single Layer Neural Network Class"
      ]
    },
    {
      "cell_type": "code",
      "execution_count": 82,
      "metadata": {
        "id": "p7bHjMlPJ0z6"
      },
      "outputs": [],
      "source": [
        "class SingleLayerNeuralNetwork:\n",
        "    def __init__(self, input_shape=(100, 10), num_outputs=1, hidden_units=1, learning_rate=0.1, epochs=100):\n",
        "        self.input_shape = input_shape\n",
        "        self.num_inputs = input_shape[1]\n",
        "        self.num_outputs = num_outputs\n",
        "        self.hidden_units = hidden_units\n",
        "        self.learning_rate = learning_rate\n",
        "        self.epochs = epochs\n",
        "        \n",
        "        self.weights = np.random.randn(self.num_inputs, hidden_units)\n",
        "        self.bias = np.random.randn(hidden_units)\n",
        "        self.output_weights = np.random.randn(hidden_units, num_outputs)\n",
        "        self.output_bias = np.random.randn(num_outputs)\n",
        "        \n",
        "    def sigmoid(self, x):\n",
        "        return 1 / (1 + np.exp(-x))\n",
        "    \n",
        "    def predict(self, inputs):\n",
        "        hidden = np.dot(inputs, self.weights) + self.bias\n",
        "        hidden = self.sigmoid(hidden)\n",
        "        output = np.dot(hidden, self.output_weights) + self.output_bias\n",
        "        return self.sigmoid(output)\n",
        "    \n",
        "    def sgd(self, inputs, targets):\n",
        "        for i in range(inputs.shape[0]):\n",
        "            x = inputs[i]\n",
        "            y = targets[i]\n",
        "            \n",
        "            hidden = np.dot(x, self.weights) + self.bias\n",
        "            hidden = self.sigmoid(hidden)\n",
        "            output = np.dot(hidden, self.output_weights) + self.output_bias\n",
        "            output = self.sigmoid(output)\n",
        "\n",
        "            error = y - output\n",
        "\n",
        "            d_output = error * output * (1 - output)\n",
        "            d_hidden = d_output.dot(self.output_weights.T) * hidden * (1 - hidden)\n",
        "\n",
        "            d_output_weights = hidden.reshape(-1, 1).dot(d_output.reshape(1, -1))\n",
        "            d_output_bias = d_output\n",
        "            d_weights = x.reshape(-1, 1).dot(d_hidden.reshape(1, -1))\n",
        "            d_bias = d_hidden\n",
        "\n",
        "            self.weights += self.learning_rate * d_weights\n",
        "            self.bias += self.learning_rate * d_bias\n",
        "            self.output_weights += self.learning_rate * d_output_weights\n",
        "            self.output_bias += self.learning_rate * d_output_bias\n",
        "    \n",
        "    def fit(self, X, y):\n",
        "        for epoch in range(self.epochs):\n",
        "            self.sgd(X, y)\n",
        "    \n",
        "    def get_params(self, deep=True):\n",
        "        return {\"input_shape\": self.input_shape,\n",
        "                \"num_outputs\": self.num_outputs,\n",
        "                \"hidden_units\": self.hidden_units, \n",
        "                \"learning_rate\": self.learning_rate, \n",
        "                \"epochs\": self.epochs}\n",
        "    \n",
        "    def set_params(self, **params):\n",
        "        for key, value in params.items():\n",
        "            setattr(self, key, value)\n",
        "        self.num_inputs = self.input_shape[1]\n",
        "        return self"
      ]
    },
    {
      "cell_type": "markdown",
      "metadata": {
        "id": "QlwW4BueJ17m"
      },
      "source": [
        "# Simulated Data"
      ]
    },
    {
      "cell_type": "code",
      "execution_count": 26,
      "metadata": {
        "id": "NUebXSDPKDW1"
      },
      "outputs": [],
      "source": [
        "np.random.seed(42)\n",
        "X = np.random.rand(100, 10) * 10\n",
        "y = np.where(X[:, 0] > 5, 1, 0)  # use the first column of X as the label"
      ]
    },
    {
      "cell_type": "code",
      "source": [
        "X.shape"
      ],
      "metadata": {
        "colab": {
          "base_uri": "https://localhost:8080/"
        },
        "id": "v7XhnW0xtxH3",
        "outputId": "2bfa7218-6861-495b-d391-683316cb3d20"
      },
      "execution_count": 27,
      "outputs": [
        {
          "output_type": "execute_result",
          "data": {
            "text/plain": [
              "(100, 10)"
            ]
          },
          "metadata": {},
          "execution_count": 27
        }
      ]
    },
    {
      "cell_type": "markdown",
      "metadata": {
        "id": "OWlTJUY5ABTr"
      },
      "source": [
        "## Run the Model"
      ]
    },
    {
      "cell_type": "code",
      "execution_count": 33,
      "metadata": {
        "colab": {
          "base_uri": "https://localhost:8080/"
        },
        "id": "co9mL3jsADPF",
        "outputId": "74fb67e8-f970-44f9-d357-4873bc6d5f29"
      },
      "outputs": [
        {
          "output_type": "stream",
          "name": "stdout",
          "text": [
            "Best hyperparameters:  {'epochs': 300, 'hidden_units': 2, 'learning_rate': 0.1}\n",
            "Best accuracy:  0.9100000000000001\n",
            "   Epochs Learning Rate Hidden Units  Accuracy\n",
            "0     300           0.1            2      0.91\n",
            "1     300           0.1            3      0.87\n",
            "2     300           0.1           10      0.86\n",
            "3     500           0.1            3      0.85\n",
            "4     100           0.1            2      0.84\n",
            "..    ...           ...          ...       ...\n",
            "95    100        0.0001            2      0.43\n",
            "96    300        0.0001            6      0.43\n",
            "97     50         0.001            6      0.42\n",
            "98     50          0.01            4      0.41\n",
            "99    100          0.01           10      0.40\n",
            "\n",
            "[100 rows x 4 columns]\n"
          ]
        }
      ],
      "source": [
        "from sklearn.model_selection import GridSearchCV\n",
        "from sklearn.metrics import accuracy_score\n",
        "\n",
        "def custom_score(model, X, y):\n",
        "    y_pred = model.predict(X)\n",
        "    return accuracy_score(y, y_pred.round())\n",
        "\n",
        "\n",
        "# Define parameter grid\n",
        "param_grid = {\n",
        "    'epochs': [50, 100, 150, 300, 500],\n",
        "    'learning_rate': [0.1, 0.01, 0.001, 0.0001],\n",
        "    'hidden_units': [2, 3, 4, 6, 10]\n",
        "}\n",
        "\n",
        "# Create and fit the model using Grid Search CV\n",
        "model = SingleLayerNeuralNetwork(input_shape=(100,10), num_outputs=1)\n",
        "grid_search = GridSearchCV(model, param_grid=param_grid, cv=5, scoring=custom_score)\n",
        "grid_search.fit(X, y)\n",
        "\n",
        "# Print the best hyperparameters and accuracy\n",
        "print(\"Best hyperparameters: \", grid_search.best_params_)\n",
        "print(\"Best accuracy: \", grid_search.best_score_)\n",
        "\n",
        "# Save hyperparameters and corresponding accuracy in a pandas dataframe\n",
        "results = pd.DataFrame(grid_search.cv_results_)\n",
        "results = results[['param_epochs', 'param_learning_rate', 'param_hidden_units', 'mean_test_score']]\n",
        "results = results.rename(columns={\n",
        "    'param_epochs': 'Epochs', \n",
        "    'param_learning_rate': 'Learning Rate', \n",
        "    'param_hidden_units': 'Hidden Units', \n",
        "    'mean_test_score': 'Accuracy'\n",
        "})\n",
        "\n",
        "# Sort results by accuracy and reset index\n",
        "results = results.sort_values(by='Accuracy', ascending=False).reset_index(drop=True)\n",
        "print(results)"
      ]
    },
    {
      "cell_type": "markdown",
      "metadata": {
        "id": "D3UJqOhyKuMv"
      },
      "source": [
        "# Apply the Model to Real Data"
      ]
    },
    {
      "cell_type": "code",
      "execution_count": 36,
      "metadata": {
        "id": "RAtQReZFDZ1x",
        "colab": {
          "base_uri": "https://localhost:8080/",
          "height": 300
        },
        "outputId": "387f88bc-9835-4f47-819d-d9b28a556075"
      },
      "outputs": [
        {
          "output_type": "execute_result",
          "data": {
            "text/plain": [
              "   battery_power  blue  clock_speed  dual_sim  fc  four_g  int_memory  m_dep  \\\n",
              "0            842     0          2.2         0   1       0           7    0.6   \n",
              "1           1021     1          0.5         1   0       1          53    0.7   \n",
              "2            563     1          0.5         1   2       1          41    0.9   \n",
              "3            615     1          2.5         0   0       0          10    0.8   \n",
              "4           1821     1          1.2         0  13       1          44    0.6   \n",
              "\n",
              "   mobile_wt  n_cores  ...  px_height  px_width   ram  sc_h  sc_w  talk_time  \\\n",
              "0        188        2  ...         20       756  2549     9     7         19   \n",
              "1        136        3  ...        905      1988  2631    17     3          7   \n",
              "2        145        5  ...       1263      1716  2603    11     2          9   \n",
              "3        131        6  ...       1216      1786  2769    16     8         11   \n",
              "4        141        2  ...       1208      1212  1411     8     2         15   \n",
              "\n",
              "   three_g  touch_screen  wifi  price_range  \n",
              "0        0             0     1            1  \n",
              "1        1             1     0            2  \n",
              "2        1             1     0            2  \n",
              "3        1             0     0            2  \n",
              "4        1             1     0            1  \n",
              "\n",
              "[5 rows x 21 columns]"
            ],
            "text/html": [
              "\n",
              "  <div id=\"df-09276122-354a-4cb7-a583-e421c0b7f882\">\n",
              "    <div class=\"colab-df-container\">\n",
              "      <div>\n",
              "<style scoped>\n",
              "    .dataframe tbody tr th:only-of-type {\n",
              "        vertical-align: middle;\n",
              "    }\n",
              "\n",
              "    .dataframe tbody tr th {\n",
              "        vertical-align: top;\n",
              "    }\n",
              "\n",
              "    .dataframe thead th {\n",
              "        text-align: right;\n",
              "    }\n",
              "</style>\n",
              "<table border=\"1\" class=\"dataframe\">\n",
              "  <thead>\n",
              "    <tr style=\"text-align: right;\">\n",
              "      <th></th>\n",
              "      <th>battery_power</th>\n",
              "      <th>blue</th>\n",
              "      <th>clock_speed</th>\n",
              "      <th>dual_sim</th>\n",
              "      <th>fc</th>\n",
              "      <th>four_g</th>\n",
              "      <th>int_memory</th>\n",
              "      <th>m_dep</th>\n",
              "      <th>mobile_wt</th>\n",
              "      <th>n_cores</th>\n",
              "      <th>...</th>\n",
              "      <th>px_height</th>\n",
              "      <th>px_width</th>\n",
              "      <th>ram</th>\n",
              "      <th>sc_h</th>\n",
              "      <th>sc_w</th>\n",
              "      <th>talk_time</th>\n",
              "      <th>three_g</th>\n",
              "      <th>touch_screen</th>\n",
              "      <th>wifi</th>\n",
              "      <th>price_range</th>\n",
              "    </tr>\n",
              "  </thead>\n",
              "  <tbody>\n",
              "    <tr>\n",
              "      <th>0</th>\n",
              "      <td>842</td>\n",
              "      <td>0</td>\n",
              "      <td>2.2</td>\n",
              "      <td>0</td>\n",
              "      <td>1</td>\n",
              "      <td>0</td>\n",
              "      <td>7</td>\n",
              "      <td>0.6</td>\n",
              "      <td>188</td>\n",
              "      <td>2</td>\n",
              "      <td>...</td>\n",
              "      <td>20</td>\n",
              "      <td>756</td>\n",
              "      <td>2549</td>\n",
              "      <td>9</td>\n",
              "      <td>7</td>\n",
              "      <td>19</td>\n",
              "      <td>0</td>\n",
              "      <td>0</td>\n",
              "      <td>1</td>\n",
              "      <td>1</td>\n",
              "    </tr>\n",
              "    <tr>\n",
              "      <th>1</th>\n",
              "      <td>1021</td>\n",
              "      <td>1</td>\n",
              "      <td>0.5</td>\n",
              "      <td>1</td>\n",
              "      <td>0</td>\n",
              "      <td>1</td>\n",
              "      <td>53</td>\n",
              "      <td>0.7</td>\n",
              "      <td>136</td>\n",
              "      <td>3</td>\n",
              "      <td>...</td>\n",
              "      <td>905</td>\n",
              "      <td>1988</td>\n",
              "      <td>2631</td>\n",
              "      <td>17</td>\n",
              "      <td>3</td>\n",
              "      <td>7</td>\n",
              "      <td>1</td>\n",
              "      <td>1</td>\n",
              "      <td>0</td>\n",
              "      <td>2</td>\n",
              "    </tr>\n",
              "    <tr>\n",
              "      <th>2</th>\n",
              "      <td>563</td>\n",
              "      <td>1</td>\n",
              "      <td>0.5</td>\n",
              "      <td>1</td>\n",
              "      <td>2</td>\n",
              "      <td>1</td>\n",
              "      <td>41</td>\n",
              "      <td>0.9</td>\n",
              "      <td>145</td>\n",
              "      <td>5</td>\n",
              "      <td>...</td>\n",
              "      <td>1263</td>\n",
              "      <td>1716</td>\n",
              "      <td>2603</td>\n",
              "      <td>11</td>\n",
              "      <td>2</td>\n",
              "      <td>9</td>\n",
              "      <td>1</td>\n",
              "      <td>1</td>\n",
              "      <td>0</td>\n",
              "      <td>2</td>\n",
              "    </tr>\n",
              "    <tr>\n",
              "      <th>3</th>\n",
              "      <td>615</td>\n",
              "      <td>1</td>\n",
              "      <td>2.5</td>\n",
              "      <td>0</td>\n",
              "      <td>0</td>\n",
              "      <td>0</td>\n",
              "      <td>10</td>\n",
              "      <td>0.8</td>\n",
              "      <td>131</td>\n",
              "      <td>6</td>\n",
              "      <td>...</td>\n",
              "      <td>1216</td>\n",
              "      <td>1786</td>\n",
              "      <td>2769</td>\n",
              "      <td>16</td>\n",
              "      <td>8</td>\n",
              "      <td>11</td>\n",
              "      <td>1</td>\n",
              "      <td>0</td>\n",
              "      <td>0</td>\n",
              "      <td>2</td>\n",
              "    </tr>\n",
              "    <tr>\n",
              "      <th>4</th>\n",
              "      <td>1821</td>\n",
              "      <td>1</td>\n",
              "      <td>1.2</td>\n",
              "      <td>0</td>\n",
              "      <td>13</td>\n",
              "      <td>1</td>\n",
              "      <td>44</td>\n",
              "      <td>0.6</td>\n",
              "      <td>141</td>\n",
              "      <td>2</td>\n",
              "      <td>...</td>\n",
              "      <td>1208</td>\n",
              "      <td>1212</td>\n",
              "      <td>1411</td>\n",
              "      <td>8</td>\n",
              "      <td>2</td>\n",
              "      <td>15</td>\n",
              "      <td>1</td>\n",
              "      <td>1</td>\n",
              "      <td>0</td>\n",
              "      <td>1</td>\n",
              "    </tr>\n",
              "  </tbody>\n",
              "</table>\n",
              "<p>5 rows × 21 columns</p>\n",
              "</div>\n",
              "      <button class=\"colab-df-convert\" onclick=\"convertToInteractive('df-09276122-354a-4cb7-a583-e421c0b7f882')\"\n",
              "              title=\"Convert this dataframe to an interactive table.\"\n",
              "              style=\"display:none;\">\n",
              "        \n",
              "  <svg xmlns=\"http://www.w3.org/2000/svg\" height=\"24px\"viewBox=\"0 0 24 24\"\n",
              "       width=\"24px\">\n",
              "    <path d=\"M0 0h24v24H0V0z\" fill=\"none\"/>\n",
              "    <path d=\"M18.56 5.44l.94 2.06.94-2.06 2.06-.94-2.06-.94-.94-2.06-.94 2.06-2.06.94zm-11 1L8.5 8.5l.94-2.06 2.06-.94-2.06-.94L8.5 2.5l-.94 2.06-2.06.94zm10 10l.94 2.06.94-2.06 2.06-.94-2.06-.94-.94-2.06-.94 2.06-2.06.94z\"/><path d=\"M17.41 7.96l-1.37-1.37c-.4-.4-.92-.59-1.43-.59-.52 0-1.04.2-1.43.59L10.3 9.45l-7.72 7.72c-.78.78-.78 2.05 0 2.83L4 21.41c.39.39.9.59 1.41.59.51 0 1.02-.2 1.41-.59l7.78-7.78 2.81-2.81c.8-.78.8-2.07 0-2.86zM5.41 20L4 18.59l7.72-7.72 1.47 1.35L5.41 20z\"/>\n",
              "  </svg>\n",
              "      </button>\n",
              "      \n",
              "  <style>\n",
              "    .colab-df-container {\n",
              "      display:flex;\n",
              "      flex-wrap:wrap;\n",
              "      gap: 12px;\n",
              "    }\n",
              "\n",
              "    .colab-df-convert {\n",
              "      background-color: #E8F0FE;\n",
              "      border: none;\n",
              "      border-radius: 50%;\n",
              "      cursor: pointer;\n",
              "      display: none;\n",
              "      fill: #1967D2;\n",
              "      height: 32px;\n",
              "      padding: 0 0 0 0;\n",
              "      width: 32px;\n",
              "    }\n",
              "\n",
              "    .colab-df-convert:hover {\n",
              "      background-color: #E2EBFA;\n",
              "      box-shadow: 0px 1px 2px rgba(60, 64, 67, 0.3), 0px 1px 3px 1px rgba(60, 64, 67, 0.15);\n",
              "      fill: #174EA6;\n",
              "    }\n",
              "\n",
              "    [theme=dark] .colab-df-convert {\n",
              "      background-color: #3B4455;\n",
              "      fill: #D2E3FC;\n",
              "    }\n",
              "\n",
              "    [theme=dark] .colab-df-convert:hover {\n",
              "      background-color: #434B5C;\n",
              "      box-shadow: 0px 1px 3px 1px rgba(0, 0, 0, 0.15);\n",
              "      filter: drop-shadow(0px 1px 2px rgba(0, 0, 0, 0.3));\n",
              "      fill: #FFFFFF;\n",
              "    }\n",
              "  </style>\n",
              "\n",
              "      <script>\n",
              "        const buttonEl =\n",
              "          document.querySelector('#df-09276122-354a-4cb7-a583-e421c0b7f882 button.colab-df-convert');\n",
              "        buttonEl.style.display =\n",
              "          google.colab.kernel.accessAllowed ? 'block' : 'none';\n",
              "\n",
              "        async function convertToInteractive(key) {\n",
              "          const element = document.querySelector('#df-09276122-354a-4cb7-a583-e421c0b7f882');\n",
              "          const dataTable =\n",
              "            await google.colab.kernel.invokeFunction('convertToInteractive',\n",
              "                                                     [key], {});\n",
              "          if (!dataTable) return;\n",
              "\n",
              "          const docLinkHtml = 'Like what you see? Visit the ' +\n",
              "            '<a target=\"_blank\" href=https://colab.research.google.com/notebooks/data_table.ipynb>data table notebook</a>'\n",
              "            + ' to learn more about interactive tables.';\n",
              "          element.innerHTML = '';\n",
              "          dataTable['output_type'] = 'display_data';\n",
              "          await google.colab.output.renderOutput(dataTable, element);\n",
              "          const docLink = document.createElement('div');\n",
              "          docLink.innerHTML = docLinkHtml;\n",
              "          element.appendChild(docLink);\n",
              "        }\n",
              "      </script>\n",
              "    </div>\n",
              "  </div>\n",
              "  "
            ]
          },
          "metadata": {},
          "execution_count": 36
        }
      ],
      "source": [
        "df=pd.read_csv('train.csv')\n",
        "df.head()"
      ]
    },
    {
      "cell_type": "code",
      "source": [
        "X = df.drop('price_range', axis=1).reset_index(drop=True)\n",
        "y = df['price_range']\n",
        "\n",
        "print(X.shape, y.shape)"
      ],
      "metadata": {
        "colab": {
          "base_uri": "https://localhost:8080/"
        },
        "id": "_KCQgmmBqZJg",
        "outputId": "68a43b20-8bdd-4035-8dcd-75998137dae1"
      },
      "execution_count": 72,
      "outputs": [
        {
          "output_type": "stream",
          "name": "stdout",
          "text": [
            "(2000, 20) (2000,)\n"
          ]
        }
      ]
    },
    {
      "cell_type": "code",
      "source": [
        "# feature importance\n",
        "from sklearn.ensemble import ExtraTreesRegressor\n",
        "model=ExtraTreesRegressor()\n",
        "model.fit(X,y)\n",
        "\n",
        "# plot graph of feature imoprtance for better visualization\n",
        "feature_importance=pd.Series(model.feature_importances_, index=X.columns)\n",
        "feature_importance.nlargest(5).plot(kind='barh');"
      ],
      "metadata": {
        "colab": {
          "base_uri": "https://localhost:8080/",
          "height": 430
        },
        "id": "7aHSvp11qof0",
        "outputId": "a2f3892e-f3da-4321-f7a4-b8b1169f971d"
      },
      "execution_count": 69,
      "outputs": [
        {
          "output_type": "display_data",
          "data": {
            "text/plain": [
              "<Figure size 640x480 with 1 Axes>"
            ],
            "image/png": "[encoded data removed]"
          },
          "metadata": {}
        }
      ]
    },
    {
      "cell_type": "code",
      "source": [
        "from sklearn.model_selection import train_test_split\n",
        "X_train,X_test,y_train,y_test=train_test_split(X,y,test_size=0.2,random_state=42)"
      ],
      "metadata": {
        "id": "vfTMlJpaqrJp"
      },
      "execution_count": 11,
      "outputs": []
    },
    {
      "cell_type": "markdown",
      "source": [
        "## Run the model on Real Data"
      ],
      "metadata": {
        "id": "ZipPxOXM8LrN"
      }
    },
    {
      "cell_type": "code",
      "source": [
        "from sklearn.preprocessing import StandardScaler\n",
        "\n",
        "# Scale the data\n",
        "scaler = StandardScaler()\n",
        "X_scaled = scaler.fit_transform(X)\n",
        "\n",
        "# Define parameter grid\n",
        "param_grid = {\n",
        "    'epochs': [50, 100, 150, 300, 500],\n",
        "    'learning_rate': [0.1, 0.01, 0.001, 0.0001],\n",
        "    'hidden_units': [2, 3, 4, 6, 10]\n",
        "}\n",
        "\n",
        "# Create and fit the model using Grid Search CV\n",
        "model = SingleLayerNeuralNetwork(input_shape=(2000,20), num_outputs=1)\n",
        "grid_search = GridSearchCV(model, param_grid=param_grid, cv=5, scoring=custom_score)\n",
        "grid_search.fit(X_scaled, y)\n",
        "\n",
        "# Print the best hyperparameters and accuracy\n",
        "print(\"Best hyperparameters: \", grid_search.best_params_)\n",
        "print(\"Best accuracy: \", grid_search.best_score_)\n",
        "\n",
        "# Save hyperparameters and corresponding accuracy in a pandas dataframe\n",
        "results = pd.DataFrame(grid_search.cv_results_)\n",
        "results = results[['param_epochs', 'param_learning_rate', 'param_hidden_units', 'mean_test_score']]\n",
        "results = results.rename(columns={\n",
        "    'param_epochs': 'Epochs', \n",
        "    'param_learning_rate': 'Learning Rate', \n",
        "    'param_hidden_units': 'Hidden Units', \n",
        "    'mean_test_score': 'Accuracy'\n",
        "})\n",
        "\n",
        "# Sort results by accuracy and reset index\n",
        "results = results.sort_values(by='Accuracy', ascending=False).reset_index(drop=True)\n",
        "print(results)"
      ],
      "metadata": {
        "id": "or5hhR8oqzI4"
      },
      "execution_count": null,
      "outputs": []
    },
    {
      "cell_type": "code",
      "source": [],
      "metadata": {
        "id": "YtElwu3q1AAM"
      },
      "execution_count": null,
      "outputs": []
    }
  ],
  "metadata": {
    "colab": {
      "provenance": [],
      "toc_visible": true,
      "authorship_tag": "ABX9TyOPomWsPgKQUaO6aCrrTf63",
      "include_colab_link": true
    },
    "kernelspec": {
      "display_name": "Python 3",
      "name": "python3"
    },
    "language_info": {
      "name": "python"
    }
  },
  "nbformat": 4,
  "nbformat_minor": 0
}