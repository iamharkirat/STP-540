{
  "nbformat": 4,
  "nbformat_minor": 0,
  "metadata": {
    "colab": {
      "provenance": [],
      "authorship_tag": "ABX9TyOzotY53SeVJ3eTmQr70KAr",
      "include_colab_link": true
    },
    "kernelspec": {
      "name": "python3",
      "display_name": "Python 3"
    },
    "language_info": {
      "name": "python"
    }
  },
  "cells": [
    {
      "cell_type": "markdown",
      "metadata": {
        "id": "view-in-github",
        "colab_type": "text"
      },
      "source": [
        "<a href=\"https://colab.research.google.com/github/iamharkirat/STP-540-Computational-Statistics/blob/main/STP540_Single_Layer_Neural_Network_2.ipynb\" target=\"_parent\"><img src=\"https://colab.research.google.com/assets/colab-badge.svg\" alt=\"Open In Colab\"/></a>"
      ]
    },
    {
      "cell_type": "code",
      "source": [
        "import pandas as pd\n",
        "import numpy as np\n",
        "import matplotlib.pyplot as plt\n",
        "import seaborn as sns\n",
        "from sklearn.model_selection import GridSearchCV"
      ],
      "metadata": {
        "id": "Zg2C22UGI2uA"
      },
      "execution_count": 4,
      "outputs": []
    },
    {
      "cell_type": "markdown",
      "source": [
        "# Sinle Layer Neural Network Class"
      ],
      "metadata": {
        "id": "eXKqFhBt_bEy"
      }
    },
    {
      "cell_type": "code",
      "source": [
        "class SingleLayerNeuralNetwork:\n",
        "    def __init__(self, num_inputs=1, num_outputs=1, hidden_units=1, learning_rate=0.1, epochs=100):\n",
        "        self.num_inputs = num_inputs\n",
        "        self.num_outputs = num_outputs\n",
        "        self.hidden_units = hidden_units\n",
        "        self.learning_rate = learning_rate\n",
        "        self.epochs = epochs\n",
        "        \n",
        "        self.weights = np.random.randn(num_inputs, hidden_units)\n",
        "        self.bias = np.random.randn(hidden_units)\n",
        "        self.output_weights = np.random.randn(hidden_units, num_outputs)\n",
        "        self.output_bias = np.random.randn(num_outputs)\n",
        "        \n",
        "    def sigmoid(self, x):\n",
        "        return 1 / (1 + np.exp(-x))\n",
        "    \n",
        "    def predict(self, inputs):\n",
        "        hidden = np.dot(inputs, self.weights) + self.bias\n",
        "        hidden = self.sigmoid(hidden)\n",
        "        output = np.dot(hidden, self.output_weights) + self.output_bias\n",
        "        return self.sigmoid(output)\n",
        "    \n",
        "    def sgd(self, inputs, targets):\n",
        "        for i in range(inputs.shape[0]):\n",
        "            x = inputs[i]\n",
        "            y = targets[i]\n",
        "            \n",
        "            hidden = np.dot(x, self.weights) + self.bias\n",
        "            hidden = self.sigmoid(hidden)\n",
        "            output = np.dot(hidden, self.output_weights) + self.output_bias\n",
        "            output = self.sigmoid(output)\n",
        "\n",
        "            error = y - output\n",
        "\n",
        "            d_output = error * output * (1 - output)\n",
        "            d_hidden = d_output.dot(self.output_weights.T) * hidden * (1 - hidden)\n",
        "\n",
        "            d_output_weights = hidden.reshape(-1, 1).dot(d_output.reshape(1, -1))\n",
        "            d_output_bias = d_output\n",
        "            d_weights = x.reshape(-1, 1).dot(d_hidden.reshape(1, -1))\n",
        "            d_bias = d_hidden\n",
        "\n",
        "            self.weights += self.learning_rate * d_weights\n",
        "            self.bias += self.learning_rate * d_bias\n",
        "            self.output_weights += self.learning_rate * d_output_weights\n",
        "            self.output_bias += self.learning_rate * d_output_bias\n",
        "    \n",
        "    def fit(self, X, y):\n",
        "        for epoch in range(self.epochs):\n",
        "            self.sgd(X, y)\n",
        "    \n",
        "    def get_params(self, deep=True):\n",
        "        return {\"num_inputs\": self.num_inputs, \n",
        "                \"num_outputs\": self.num_outputs,\n",
        "                \"hidden_units\": self.hidden_units, \n",
        "                \"learning_rate\": self.learning_rate, \n",
        "                \"epochs\": self.epochs}\n",
        "    \n",
        "    def set_params(self, **params):\n",
        "        for key, value in params.items():\n",
        "            setattr(self, key, value)\n",
        "        return self"
      ],
      "metadata": {
        "id": "p7bHjMlPJ0z6"
      },
      "execution_count": 5,
      "outputs": []
    },
    {
      "cell_type": "markdown",
      "source": [
        "# Simulated Data"
      ],
      "metadata": {
        "id": "QlwW4BueJ17m"
      }
    },
    {
      "cell_type": "code",
      "source": [
        "# Generate simulated data\n",
        "np.random.seed(42)\n",
        "X = np.random.rand(100, 1) * 10\n",
        "y = np.where(X > 5, 1, 0)"
      ],
      "metadata": {
        "id": "NUebXSDPKDW1"
      },
      "execution_count": 9,
      "outputs": []
    },
    {
      "cell_type": "markdown",
      "source": [
        "# Run the Model"
      ],
      "metadata": {
        "id": "OWlTJUY5ABTr"
      }
    },
    {
      "cell_type": "code",
      "source": [
        "from sklearn.model_selection import GridSearchCV\n",
        "from sklearn.metrics import accuracy_score\n",
        "\n",
        "def custom_score(model, X, y):\n",
        "    y_pred = model.predict(X)\n",
        "    return accuracy_score(y, y_pred.round())\n",
        "\n",
        "\n",
        "# Define parameter grid\n",
        "param_grid = {\n",
        "    'epochs': [50, 100, 150, 300, 500, 1000],\n",
        "    'learning_rate': [0.1, 0.01, 0.001, 0.0001],\n",
        "    'hidden_units': [2, 3, 4, 6, 10]\n",
        "}\n",
        "\n",
        "# Create and fit the model using Grid Search CV\n",
        "model = SingleLayerNeuralNetwork(num_inputs=1, num_outputs=1)\n",
        "grid_search = GridSearchCV(model, param_grid=param_grid, cv=5, scoring=custom_score)\n",
        "grid_search.fit(X, y)\n",
        "\n",
        "# Print the best hyperparameters and accuracy\n",
        "print(\"Best hyperparameters: \", grid_search.best_params_)\n",
        "print(\"Best accuracy: \", grid_search.best_score_)\n",
        "\n",
        "# Save hyperparameters and corresponding accuracy in a pandas dataframe\n",
        "results = pd.DataFrame(grid_search.cv_results_)\n",
        "results = results[['param_epochs', 'param_learning_rate', 'param_hidden_units', 'mean_test_score']]\n",
        "results = results.rename(columns={\n",
        "    'param_epochs': 'Epochs', \n",
        "    'param_learning_rate': 'Learning Rate', \n",
        "    'param_hidden_units': 'Hidden Units', \n",
        "    'mean_test_score': 'Accuracy'\n",
        "})\n",
        "\n",
        "# Sort results by accuracy and reset index\n",
        "results = results.sort_values(by='Accuracy', ascending=False).reset_index(drop=True)\n",
        "print(results)"
      ],
      "metadata": {
        "id": "co9mL3jsADPF"
      },
      "execution_count": null,
      "outputs": []
    },
    {
      "cell_type": "code",
      "source": [],
      "metadata": {
        "id": "D3UJqOhyKuMv"
      },
      "execution_count": null,
      "outputs": []
    }
  ]
}