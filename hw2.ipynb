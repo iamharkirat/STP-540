{
 "cells": [
  {
   "cell_type": "code",
   "execution_count": 1,
   "id": "2fc51a22-eea7-4808-b753-0b5312dadf6f",
   "metadata": {},
   "outputs": [],
   "source": [
    "import pandas as pd\n",
    "import numpy as np\n",
    "import matplotlib.pyplot as plt\n",
    "import seaborn as sns\n",
    "import statsmodels.api as sm\n",
    "import time\n",
    "from sklearn.linear_model import LinearRegression"
   ]
  },
  {
   "cell_type": "code",
   "execution_count": 2,
   "id": "30554f3c-72b1-4770-8234-1c23cc5e5191",
   "metadata": {},
   "outputs": [],
   "source": [
    "df=pd.read_csv('used_cars.csv')"
   ]
  },
  {
   "cell_type": "markdown",
   "id": "141d0e8e-66b8-492e-8542-40ffc366340a",
   "metadata": {},
   "source": [
    "# Check QR computation of least squares β & Time the QR decomposition"
   ]
  },
  {
   "cell_type": "code",
   "execution_count": 3,
   "id": "40f607fd-1042-484c-ad0d-c077c670e779",
   "metadata": {},
   "outputs": [
    {
     "name": "stdout",
     "output_type": "stream",
     "text": [
      "Time: 0.0008 seconds\n",
      "[-5.36548987e+06 -1.53721903e-01  2.69434954e+03]\n",
      "[ 0.00000000e+00 -1.53721903e-01  2.69434954e+03]\n"
     ]
    }
   ],
   "source": [
    "# extract features and target variable\n",
    "X = df[['mileage', 'year']].values\n",
    "Y = df['price'].values\n",
    "\n",
    "# add column of ones for intercept term\n",
    "X = np.column_stack([np.ones(len(X)), X])\n",
    "\n",
    "# compute QR decomposition of X\n",
    "start = time.time()\n",
    "Q, R = np.linalg.qr(X)\n",
    "end = time.time()\n",
    "\n",
    "print(f\"Time: {end-start:.4f} seconds\")\n",
    "\n",
    "# solve the least squares problem using back-substitution\n",
    "coef = np.linalg.solve(R, Q.T @ Y)\n",
    "\n",
    "print(coef)\n",
    "\n",
    "# compare with sklearn.linear_model.LinearRegression\n",
    "reg = LinearRegression().fit(X, Y)\n",
    "print(reg.coef_)"
   ]
  },
  {
   "cell_type": "markdown",
   "id": "28ebd314-8f2a-4b9e-84f1-5607a1a9c5fd",
   "metadata": {},
   "source": [
    "# Othogonal Projections"
   ]
  },
  {
   "cell_type": "code",
   "execution_count": 4,
   "id": "907fc1ec-c09d-4d05-9395-48ff3f811046",
   "metadata": {},
   "outputs": [
    {
     "name": "stdout",
     "output_type": "stream",
     "text": [
      "                            OLS Regression Results                            \n",
      "==============================================================================\n",
      "Dep. Variable:                  price   R-squared:                       0.665\n",
      "Model:                            OLS   Adj. R-squared:                  0.664\n",
      "Method:                 Least Squares   F-statistic:                     1978.\n",
      "Date:                Mon, 27 Feb 2023   Prob (F-statistic):          5.37e-239\n",
      "Time:                        00:21:13   Log-Likelihood:                -10693.\n",
      "No. Observations:                1000   AIC:                         2.139e+04\n",
      "Df Residuals:                     998   BIC:                         2.140e+04\n",
      "Df Model:                           1                                         \n",
      "Covariance Type:            nonrobust                                         \n",
      "==============================================================================\n",
      "                 coef    std err          t      P>|t|      [0.025      0.975]\n",
      "------------------------------------------------------------------------------\n",
      "const       5.636e+04    670.626     84.041      0.000     5.5e+04    5.77e+04\n",
      "mileage       -0.3500      0.008    -44.472      0.000      -0.365      -0.335\n",
      "==============================================================================\n",
      "Omnibus:                        6.765   Durbin-Watson:                   2.033\n",
      "Prob(Omnibus):                  0.034   Jarque-Bera (JB):                8.074\n",
      "Skew:                           0.094   Prob(JB):                       0.0176\n",
      "Kurtosis:                       3.398   Cond. No.                     1.69e+05\n",
      "==============================================================================\n",
      "\n",
      "Notes:\n",
      "[1] Standard Errors assume that the covariance matrix of the errors is correctly specified.\n",
      "[2] The condition number is large, 1.69e+05. This might indicate that there are\n",
      "strong multicollinearity or other numerical problems.\n",
      "                            OLS Regression Results                            \n",
      "==============================================================================\n",
      "Dep. Variable:                  price   R-squared:                       0.832\n",
      "Model:                            OLS   Adj. R-squared:                  0.832\n",
      "Method:                 Least Squares   F-statistic:                     2477.\n",
      "Date:                Mon, 27 Feb 2023   Prob (F-statistic):               0.00\n",
      "Time:                        00:21:13   Log-Likelihood:                -10346.\n",
      "No. Observations:                1000   AIC:                         2.070e+04\n",
      "Df Residuals:                     997   BIC:                         2.071e+04\n",
      "Df Model:                           2                                         \n",
      "Covariance Type:            nonrobust                                         \n",
      "==============================================================================\n",
      "                 coef    std err          t      P>|t|      [0.025      0.975]\n",
      "------------------------------------------------------------------------------\n",
      "const      -5.365e+06   1.72e+05    -31.273      0.000    -5.7e+06   -5.03e+06\n",
      "mileage       -0.1537      0.008    -18.435      0.000      -0.170      -0.137\n",
      "year        2694.3495     85.259     31.602      0.000    2527.043    2861.657\n",
      "==============================================================================\n",
      "Omnibus:                      171.937   Durbin-Watson:                   2.021\n",
      "Prob(Omnibus):                  0.000   Jarque-Bera (JB):              294.618\n",
      "Skew:                           1.076   Prob(JB):                     1.06e-64\n",
      "Kurtosis:                       4.562   Cond. No.                     6.13e+07\n",
      "==============================================================================\n",
      "\n",
      "Notes:\n",
      "[1] Standard Errors assume that the covariance matrix of the errors is correctly specified.\n",
      "[2] The condition number is large, 6.13e+07. This might indicate that there are\n",
      "strong multicollinearity or other numerical problems.\n",
      "                            OLS Regression Results                            \n",
      "==============================================================================\n",
      "Dep. Variable:                mileage   R-squared:                       0.555\n",
      "Model:                            OLS   Adj. R-squared:                  0.554\n",
      "Method:                 Least Squares   F-statistic:                     1243.\n",
      "Date:                Mon, 27 Feb 2023   Prob (F-statistic):          1.76e-177\n",
      "Time:                        00:21:13   Log-Likelihood:                -11680.\n",
      "No. Observations:                1000   AIC:                         2.336e+04\n",
      "Df Residuals:                     998   BIC:                         2.337e+04\n",
      "Df Model:                           1                                         \n",
      "Covariance Type:            nonrobust                                         \n",
      "==============================================================================\n",
      "                 coef    std err          t      P>|t|      [0.025      0.975]\n",
      "------------------------------------------------------------------------------\n",
      "const       1.536e+07   4.33e+05     35.423      0.000    1.45e+07    1.62e+07\n",
      "year       -7614.3925    215.991    -35.253      0.000   -8038.242   -7190.543\n",
      "==============================================================================\n",
      "Omnibus:                      116.288   Durbin-Watson:                   2.042\n",
      "Prob(Omnibus):                  0.000   Jarque-Bera (JB):              335.922\n",
      "Skew:                           0.591   Prob(JB):                     1.14e-73\n",
      "Kurtosis:                       5.582   Cond. No.                     9.61e+05\n",
      "==============================================================================\n",
      "\n",
      "Notes:\n",
      "[1] Standard Errors assume that the covariance matrix of the errors is correctly specified.\n",
      "[2] The condition number is large, 9.61e+05. This might indicate that there are\n",
      "strong multicollinearity or other numerical problems.\n",
      "                            OLS Regression Results                            \n",
      "==============================================================================\n",
      "Dep. Variable:                  price   R-squared:                       0.057\n",
      "Model:                            OLS   Adj. R-squared:                  0.056\n",
      "Method:                 Least Squares   F-statistic:                     60.45\n",
      "Date:                Mon, 27 Feb 2023   Prob (F-statistic):           1.88e-14\n",
      "Time:                        00:21:13   Log-Likelihood:                -11210.\n",
      "No. Observations:                1000   AIC:                         2.242e+04\n",
      "Df Residuals:                     998   BIC:                         2.243e+04\n",
      "Df Model:                           1                                         \n",
      "Covariance Type:            nonrobust                                         \n",
      "==============================================================================\n",
      "                 coef    std err          t      P>|t|      [0.025      0.975]\n",
      "------------------------------------------------------------------------------\n",
      "const       3.058e+04    565.622     54.070      0.000    2.95e+04    3.17e+04\n",
      "0             -0.1537      0.020     -7.775      0.000      -0.193      -0.115\n",
      "==============================================================================\n",
      "Omnibus:                       43.214   Durbin-Watson:                   2.056\n",
      "Prob(Omnibus):                  0.000   Jarque-Bera (JB):               25.684\n",
      "Skew:                           0.244   Prob(JB):                     2.65e-06\n",
      "Kurtosis:                       2.385   Cond. No.                     2.86e+04\n",
      "==============================================================================\n",
      "\n",
      "Notes:\n",
      "[1] Standard Errors assume that the covariance matrix of the errors is correctly specified.\n",
      "[2] The condition number is large, 2.86e+04. This might indicate that there are\n",
      "strong multicollinearity or other numerical problems.\n"
     ]
    }
   ],
   "source": [
    "# extract features and target variable\n",
    "X = df[['mileage', 'year']]\n",
    "Y = df['price']\n",
    "\n",
    "# add column of ones for intercept term\n",
    "X = sm.add_constant(X)\n",
    "\n",
    "# R1: regress y on [1,mileage]\n",
    "R1 = sm.OLS(Y, X[['const', 'mileage']]).fit()\n",
    "print(R1.summary())\n",
    "\n",
    "# R2: regress y on [1,mileage,year]\n",
    "R2 = sm.OLS(Y, X).fit()\n",
    "print(R2.summary())\n",
    "\n",
    "# R3: regress mileage on [1,year]\n",
    "R3 = sm.OLS(X['mileage'], X[['const', 'year']]).fit()\n",
    "print(R3.summary())\n",
    "\n",
    "# R4: regress y on the residuals from the regression R3\n",
    "residuals = X['mileage'] - R3.predict(X[['const', 'year']])\n",
    "R4 = sm.OLS(Y, sm.add_constant(residuals)).fit()\n",
    "print(R4.summary())"
   ]
  },
  {
   "cell_type": "code",
   "execution_count": 5,
   "id": "0ca64192-1450-4de6-a673-d3c93b466449",
   "metadata": {},
   "outputs": [
    {
     "data": {
      "text/plain": [
       "array([[ 1.00000000e+00,  6.67366756e-01,  4.16985868e-15],\n",
       "       [ 6.67366756e-01,  1.00000000e+00, -7.44729221e-01],\n",
       "       [ 4.16985868e-15, -7.44729221e-01,  1.00000000e+00]])"
      ]
     },
     "execution_count": 5,
     "metadata": {},
     "output_type": "execute_result"
    }
   ],
   "source": [
    "# compute correlation matrix of residuals and columns of X\n",
    "np.corrcoef(np.column_stack([residuals, X['mileage'], X['year']]).T)"
   ]
  },
  {
   "cell_type": "markdown",
   "id": "6da5e5ec-1c4d-4421-ab84-ecaf59f7ee90",
   "metadata": {},
   "source": [
    "# Properties of the Multivariate Normal"
   ]
  },
  {
   "cell_type": "markdown",
   "id": "363fa3db-ca7c-4601-b688-d78df9f7de1e",
   "metadata": {},
   "source": [
    "## (a)"
   ]
  },
  {
   "cell_type": "code",
   "execution_count": 6,
   "id": "d0dee65f-f1a4-4b2f-ae23-b408a2af8e6a",
   "metadata": {},
   "outputs": [
    {
     "name": "stdout",
     "output_type": "stream",
     "text": [
      "Marginal covariance matrix of (Y1, Y2):\n",
      "[[1.  0.8]\n",
      " [0.8 1. ]]\n"
     ]
    }
   ],
   "source": [
    "p = 5\n",
    "rho = 0.8\n",
    "Sigma = np.full((p, p), rho)\n",
    "np.fill_diagonal(Sigma, 1.0)\n",
    "\n",
    "marginal_cov = Sigma[:2, :2]\n",
    "print(\"Marginal covariance matrix of (Y1, Y2):\")\n",
    "print(marginal_cov)"
   ]
  },
  {
   "cell_type": "markdown",
   "id": "6baab8c9-4661-4254-8bfa-7354c8086aea",
   "metadata": {},
   "source": [
    "## (b)"
   ]
  },
  {
   "cell_type": "code",
   "execution_count": 7,
   "id": "c9625878-634c-4cec-ae66-a5549c4544ec",
   "metadata": {},
   "outputs": [
    {
     "name": "stdout",
     "output_type": "stream",
     "text": [
      "Conditional mean vector of (Y1, Y2):\n",
      "[ 0.23 -0.65]\n",
      "Conditional covariance matrix of (Y1, Y2):\n",
      "[[0.26153846 0.06153846]\n",
      " [0.06153846 0.26153846]]\n"
     ]
    }
   ],
   "source": [
    "# Conditional mean vector\n",
    "mu_cond = np.array([rho * 0.23 / 0.8, rho * (-0.65) / 0.8])\n",
    "\n",
    "# Conditional covariance matrix\n",
    "S_cond = marginal_cov - Sigma[0:2, 2:5].dot(np.linalg.inv(Sigma[2:5, 2:5])).dot(Sigma[2:5, 0:2])\n",
    "\n",
    "print(\"Conditional mean vector of (Y1, Y2):\")\n",
    "print(mu_cond)\n",
    "\n",
    "print(\"Conditional covariance matrix of (Y1, Y2):\")\n",
    "print(S_cond)"
   ]
  },
  {
   "cell_type": "markdown",
   "id": "c3e5856a-b887-428a-a20a-a43560a3827e",
   "metadata": {},
   "source": [
    "## (c)"
   ]
  },
  {
   "cell_type": "code",
   "execution_count": 9,
   "id": "1eb56cb9-9691-42ef-be67-83d501e5bab3",
   "metadata": {},
   "outputs": [
    {
     "name": "stdout",
     "output_type": "stream",
     "text": [
      "Lower triangular matrix L from Cholesky decomposition:\n",
      "[[1.         0.         0.         0.         0.        ]\n",
      " [0.8        0.6        0.         0.         0.        ]\n",
      " [0.8        0.26666667 0.53748385 0.         0.        ]\n",
      " [0.8        0.26666667 0.16537965 0.51140831 0.        ]\n",
      " [0.8        0.26666667 0.16537965 0.12033137 0.49705012]]\n"
     ]
    }
   ],
   "source": [
    "L = np.linalg.cholesky(Sigma)\n",
    "print(\"Lower triangular matrix L from Cholesky decomposition:\")\n",
    "print(L)"
   ]
  },
  {
   "cell_type": "markdown",
   "id": "d81e3f3a-9d01-448a-abf8-51e41fa263aa",
   "metadata": {},
   "source": [
    "## (d)"
   ]
  },
  {
   "cell_type": "code",
   "execution_count": 10,
   "id": "ff3d32ff-03ee-43b9-81b1-d3ea14fdac97",
   "metadata": {},
   "outputs": [
    {
     "name": "stdout",
     "output_type": "stream",
     "text": [
      "Inverse of the lower triangular matrix L:\n",
      "[[ 1.          0.          0.          0.          0.        ]\n",
      " [-1.33333333  1.66666667  0.          0.          0.        ]\n",
      " [-0.82689823 -0.82689823  1.86052102  0.          0.        ]\n",
      " [-0.60165684 -0.60165684 -0.60165684  1.95538472  0.        ]\n",
      " [-0.47338107 -0.47338107 -0.47338107 -0.47338107  2.01186954]]\n"
     ]
    }
   ],
   "source": [
    "L_inv = np.linalg.inv(L)\n",
    "print(\"Inverse of the lower triangular matrix L:\")\n",
    "print(L_inv)"
   ]
  },
  {
   "cell_type": "markdown",
   "id": "3f47caca-1137-4983-a3ae-ef3c0f979a6f",
   "metadata": {},
   "source": [
    "## (e)"
   ]
  },
  {
   "cell_type": "code",
   "execution_count": 11,
   "id": "795978c2-9bcb-4411-9c09-81dd4dce2a0d",
   "metadata": {},
   "outputs": [
    {
     "name": "stdout",
     "output_type": "stream",
     "text": [
      "A = \n",
      "[[ 3.27545381e-01  0.00000000e+00  0.00000000e+00 -2.29595346e-01\n",
      "   9.16515139e-01]\n",
      " [-3.04191084e-01 -5.58570184e-17  0.00000000e+00 -2.59745615e-01\n",
      "   9.16515139e-01]\n",
      " [-7.78476596e-03  3.65148372e-01  0.00000000e+00  1.63113654e-01\n",
      "   9.16515139e-01]\n",
      " [-7.78476596e-03 -1.82574186e-01 -3.16227766e-01  1.63113654e-01\n",
      "   9.16515139e-01]\n",
      " [-7.78476596e-03 -1.82574186e-01  3.16227766e-01  1.63113654e-01\n",
      "   9.16515139e-01]]\n"
     ]
    }
   ],
   "source": [
    "p = 5\n",
    "rho = 0.8\n",
    "Sigma = np.full((p, p), rho)\n",
    "np.fill_diagonal(Sigma, 1.0)\n",
    "\n",
    "# (e) Compute A\n",
    "D, V = np.linalg.eigh(Sigma)\n",
    "A = V @ np.diag(np.sqrt(D))\n",
    "print(\"A = \")\n",
    "print(A)"
   ]
  },
  {
   "cell_type": "markdown",
   "id": "8628cfa9-7bc8-4266-885d-40c2efc24df5",
   "metadata": {},
   "source": [
    "## (f)"
   ]
  },
  {
   "cell_type": "code",
   "execution_count": 12,
   "id": "12dfa3ad-9847-4abd-a021-4c9cb74f89c5",
   "metadata": {},
   "outputs": [
    {
     "name": "stdout",
     "output_type": "stream",
     "text": [
      "mu_hat = \n",
      "[ 0.01215241  0.00890614 -0.00222814  0.01230498  0.00778325]\n",
      "Sigma_hat = \n",
      "[[0.99201361 0.79704652 0.79264147 0.79225653 0.79025751]\n",
      " [0.79704652 0.99630463 0.80003433 0.79823296 0.79318922]\n",
      " [0.79264147 0.80003433 1.00009226 0.79775525 0.79079905]\n",
      " [0.79225653 0.79823296 0.79775525 0.99165034 0.78752125]\n",
      " [0.79025751 0.79318922 0.79079905 0.78752125 0.98387105]]\n"
     ]
    }
   ],
   "source": [
    "n = 10000\n",
    "samples = np.random.multivariate_normal(np.zeros(p), Sigma, size=n)\n",
    "mu_hat = np.mean(samples, axis=0)\n",
    "Sigma_hat = np.cov(samples.T)\n",
    "print(\"mu_hat = \")\n",
    "print(mu_hat)\n",
    "print(\"Sigma_hat = \")\n",
    "print(Sigma_hat)"
   ]
  },
  {
   "cell_type": "markdown",
   "id": "b8dff574-6250-4856-b8f5-7cce19b3d202",
   "metadata": {},
   "source": [
    "## (g)"
   ]
  },
  {
   "cell_type": "code",
   "execution_count": 13,
   "id": "110edb6c-9c4f-41ff-8d9b-e9eeca5ed676",
   "metadata": {},
   "outputs": [
    {
     "name": "stdout",
     "output_type": "stream",
     "text": [
      "mu_hat = \n",
      "[-0.13612     0.0349271  -0.01476973 -0.01785314 -0.1001787 ]\n",
      "Sigma_hat = \n",
      "[[0.89235354 0.65766634 0.67652004 0.64022037 0.61946546]\n",
      " [0.65766634 0.91917726 0.66221576 0.60157022 0.59198129]\n",
      " [0.67652004 0.66221576 0.81140135 0.63320545 0.576226  ]\n",
      " [0.64022037 0.60157022 0.63320545 0.7078016  0.55044263]\n",
      " [0.61946546 0.59198129 0.576226   0.55044263 0.83929357]]\n"
     ]
    }
   ],
   "source": [
    "n = 50\n",
    "samples = np.random.multivariate_normal(np.zeros(p), Sigma, size=n)\n",
    "mu_hat = np.mean(samples, axis=0)\n",
    "Sigma_hat = np.cov(samples.T)\n",
    "print(\"mu_hat = \")\n",
    "print(mu_hat)\n",
    "print(\"Sigma_hat = \")\n",
    "print(Sigma_hat)"
   ]
  },
  {
   "cell_type": "markdown",
   "id": "aca3f562-8192-4c91-801a-caa3baf298fa",
   "metadata": {},
   "source": [
    "# Multivariate Normal Likelihood"
   ]
  },
  {
   "cell_type": "code",
   "execution_count": 14,
   "id": "2afc9fd3-6f5e-4c26-832a-489552eb877b",
   "metadata": {},
   "outputs": [
    {
     "name": "stdout",
     "output_type": "stream",
     "text": [
      "550.7536039487462\n",
      "550.7536039487462\n"
     ]
    },
    {
     "name": "stderr",
     "output_type": "stream",
     "text": [
      "/var/folders/jv/57f83l2x4cx_n26b4xzvfz_m0000gn/T/ipykernel_19354/1573729343.py:8: RuntimeWarning: invalid value encountered in log\n",
      "  retval = -0.5 * n * np.log(dS) - 0.5 * np.sum(np.matmul(np.matmul(Yc, Si), Yc.T))\n"
     ]
    }
   ],
   "source": [
    "from scipy.stats import multivariate_normal\n",
    "\n",
    "def log_likelihood(Y, mu, Sigma):\n",
    "    n, p = Y.shape\n",
    "    dS = np.linalg.det(Sigma)\n",
    "    Si = np.linalg.inv(Sigma)\n",
    "    Yc = Y - mu\n",
    "    retval = -0.5 * n * np.log(dS) - 0.5 * np.sum(np.matmul(np.matmul(Yc, Si), Yc.T))\n",
    "    return retval\n",
    "\n",
    "# Simulate data\n",
    "np.random.seed(123)\n",
    "n = 1000\n",
    "p = 2\n",
    "rho = 0.8\n",
    "Sigma = np.full((p, p), rho)\n",
    "np.fill_diagonal(Sigma, 1.0)\n",
    "mu = np.zeros(p)\n",
    "Y = np.random.multivariate_normal(mu, Sigma, n)\n",
    "\n",
    "# Compute MLE\n",
    "mu_mle = np.mean(Y, axis=0)\n",
    "Sigma_mle = np.cov(Y, rowvar=False)\n",
    "\n",
    "# Check log likelihood at MLE\n",
    "print(log_likelihood(Y, mu_mle, Sigma_mle))\n",
    "\n",
    "# Check log likelihood using vectorized code\n",
    "dS = np.linalg.det(Sigma_mle)\n",
    "Si = np.linalg.inv(Sigma_mle)\n",
    "Yc = Y - mu_mle\n",
    "retval_vec = -0.5 * n * np.log(dS) - 0.5 * np.sum(np.matmul(np.matmul(Yc, Si), Yc.T))\n",
    "print(retval_vec)\n",
    "\n",
    "# Plot log likelihood for each parameter\n",
    "mu1_vals = np.linspace(mu_mle[0] - 0.5, mu_mle[0] + 0.5, 100)\n",
    "mu2_vals = np.linspace(mu_mle[1] - 0.5, mu_mle[1] + 0.5, 100)\n",
    "sigma11_vals = np.linspace(Sigma_mle[0, 0] - 0.5, Sigma_mle[0, 0] + 0.5, 100)\n",
    "sigma12_vals = np.linspace(Sigma_mle[0, 1] - 0.5, Sigma_mle[0, 1] + 0.5, 100)\n",
    "sigma22_vals = np.linspace(Sigma_mle[1, 1] - 0.5, Sigma_mle[1, 1] + 0.5, 100)\n",
    "\n",
    "loglik_mu1 = [log_likelihood(Y, [mu1, mu_mle[1]], Sigma_mle) for mu1 in mu1_vals]\n",
    "loglik_mu2 = [log_likelihood(Y, [mu_mle[0], mu2], Sigma_mle) for mu2 in mu2_vals]\n",
    "loglik_sigma11 = [log_likelihood(Y, mu_mle, [[sigma11, Sigma_mle[0, 1]], [Sigma_mle[1, 0], Sigma_mle[1, 1]]]) for sigma11 in sigma11_vals]\n",
    "loglik_sigma12 = [log_likelihood(Y, mu_mle, [[Sigma_mle[0, 0], sigma12], [Sigma_mle[1, 0], Sigma_mle[1, 1]]]) for sigma12 in sigma12_vals]\n",
    "loglik_sigma22 = [log_likelihood(Y, mu_mle, [[Sigma_mle[0, 0], Sigma_mle[0, 1]], [Sigma_mle[1, 0], sigma22]]) for sigma22 in sigma22_vals]\n"
   ]
  },
  {
   "cell_type": "markdown",
   "id": "fea99627-484b-4447-8e38-b4fa76c27107",
   "metadata": {},
   "source": [
    "# Basic Gaussian Process Regression"
   ]
  },
  {
   "cell_type": "code",
   "execution_count": 22,
   "id": "083a20eb-da6a-4df6-bb6c-98fc230121b8",
   "metadata": {},
   "outputs": [
    {
     "data": {
      "image/png": "[encoded data removed]",
      "text/plain": [
       "<Figure size 432x288 with 1 Axes>"
      ]
     },
     "metadata": {
      "needs_background": "light"
     },
     "output_type": "display_data"
    }
   ],
   "source": [
    "import numpy as np\n",
    "import matplotlib.pyplot as plt\n",
    "\n",
    "# Define x and f(x)\n",
    "x = np.linspace(-2, 2, 100)\n",
    "fx = x ** 3\n",
    "\n",
    "# Define indices for observed and unobserved points\n",
    "observed_indices = list(range(75)) + list(range(86, 100))\n",
    "unobserved_indices = list(range(76, 86))\n",
    "\n",
    "# Extract observed and unobserved values of f(x)\n",
    "observed_fx = fx[observed_indices]\n",
    "\n",
    "# Define hyperparameters for kernel function\n",
    "sigma_f = 0.1\n",
    "l = 0.1\n",
    "\n",
    "# Compute covariance matrix using squared exponential kernel\n",
    "diffs = x.reshape(-1, 1) - x.reshape(1, -1)\n",
    "Sigma = (sigma_f ** 2) * np.exp(-(diffs ** 2) / (2 * l ** 2))\n",
    "\n",
    "# Extract submatrices of covariance matrix for observed and unobserved points\n",
    "sig_xx = Sigma[observed_indices, :][:, observed_indices]\n",
    "sig_yy = Sigma[unobserved_indices, :][:, unobserved_indices]\n",
    "sig_xy = Sigma[observed_indices, :][:, unobserved_indices]\n",
    "sig_yx = np.transpose(sig_xy)\n",
    "\n",
    "# Compute mean and covariance of unobserved points given observed points\n",
    "mu_y = sig_yx @ np.linalg.inv(sig_xx) @ observed_fx\n",
    "sig_y = sig_yy - sig_yx @ np.linalg.inv(sig_xx) @ sig_xy\n",
    "\n",
    "# Generate samples from the distribution of unobserved points\n",
    "samples = np.random.multivariate_normal(mu_y, sig_y, size=1000)\n",
    "\n",
    "# Compute mean of samples\n",
    "y = np.mean(samples, axis=0)\n",
    "\n",
    "# Plot observed and unobserved points\n",
    "plt.scatter(x[observed_indices], observed_fx)\n",
    "plt.scatter(x[unobserved_indices], y)\n",
    "plt.show()"
   ]
  },
  {
   "cell_type": "code",
   "execution_count": null,
   "id": "fa099817-bc51-437e-9270-36d194ffce9d",
   "metadata": {},
   "outputs": [],
   "source": []
  }
 ],
 "metadata": {
  "kernelspec": {
   "display_name": "Python 3 (ipykernel)",
   "language": "python",
   "name": "python3"
  },
  "language_info": {
   "codemirror_mode": {
    "name": "ipython",
    "version": 3
   },
   "file_extension": ".py",
   "mimetype": "text/x-python",
   "name": "python",
   "nbconvert_exporter": "python",
   "pygments_lexer": "ipython3",
   "version": "3.9.7"
  }
 },
 "nbformat": 4,
 "nbformat_minor": 5
}
